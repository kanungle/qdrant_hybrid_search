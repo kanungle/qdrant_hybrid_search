{
 "cells": [
  {
   "cell_type": "markdown",
   "id": "e5f1a5c2",
   "metadata": {},
   "source": [
    "# Hybrid Search with Late Interaction\n"
   ]
  },
  {
   "cell_type": "markdown",
   "id": "323a8135",
   "metadata": {},
   "source": [
    "## Environment Setup"
   ]
  },
  {
   "cell_type": "code",
   "execution_count": 1,
   "id": "3922b9bd",
   "metadata": {},
   "outputs": [
    {
     "name": "stdout",
     "output_type": "stream",
     "text": [
      "Requirement already satisfied: qdrant-client in c:\\program files\\python313\\lib\\site-packages (1.14.2)\n",
      "Requirement already satisfied: datasets in c:\\program files\\python313\\lib\\site-packages (3.6.0)\n",
      "Requirement already satisfied: fastembed in c:\\program files\\python313\\lib\\site-packages (0.7.0)\n",
      "Requirement already satisfied: tqdm in c:\\program files\\python313\\lib\\site-packages (4.67.1)\n",
      "Requirement already satisfied: hf_xet in c:\\program files\\python313\\lib\\site-packages (1.1.2)\n",
      "Requirement already satisfied: polars in c:\\program files\\python313\\lib\\site-packages (1.30.0)\n",
      "Requirement already satisfied: grpcio>=1.41.0 in c:\\program files\\python313\\lib\\site-packages (from qdrant-client) (1.71.0)\n",
      "Requirement already satisfied: httpx>=0.20.0 in c:\\program files\\python313\\lib\\site-packages (from httpx[http2]>=0.20.0->qdrant-client) (0.28.1)\n",
      "Requirement already satisfied: numpy>=2.1.0 in c:\\program files\\python313\\lib\\site-packages (from qdrant-client) (2.2.6)\n",
      "Requirement already satisfied: portalocker<3.0.0,>=2.7.0 in c:\\program files\\python313\\lib\\site-packages (from qdrant-client) (2.10.1)\n",
      "Requirement already satisfied: protobuf>=3.20.0 in c:\\program files\\python313\\lib\\site-packages (from qdrant-client) (6.31.1)\n",
      "Requirement already satisfied: pydantic!=2.0.*,!=2.1.*,!=2.2.0,>=1.10.8 in c:\\program files\\python313\\lib\\site-packages (from qdrant-client) (2.11.5)\n",
      "Requirement already satisfied: urllib3<3,>=1.26.14 in c:\\program files\\python313\\lib\\site-packages (from qdrant-client) (2.4.0)\n",
      "Requirement already satisfied: filelock in c:\\program files\\python313\\lib\\site-packages (from datasets) (3.18.0)\n",
      "Requirement already satisfied: pyarrow>=15.0.0 in c:\\program files\\python313\\lib\\site-packages (from datasets) (20.0.0)\n",
      "Requirement already satisfied: dill<0.3.9,>=0.3.0 in c:\\program files\\python313\\lib\\site-packages (from datasets) (0.3.8)\n",
      "Requirement already satisfied: pandas in c:\\program files\\python313\\lib\\site-packages (from datasets) (2.2.3)\n",
      "Requirement already satisfied: requests>=2.32.2 in c:\\program files\\python313\\lib\\site-packages (from datasets) (2.32.3)\n",
      "Requirement already satisfied: xxhash in c:\\program files\\python313\\lib\\site-packages (from datasets) (3.5.0)\n",
      "Requirement already satisfied: multiprocess<0.70.17 in c:\\program files\\python313\\lib\\site-packages (from datasets) (0.70.16)\n",
      "Requirement already satisfied: fsspec<=2025.3.0,>=2023.1.0 in c:\\program files\\python313\\lib\\site-packages (from fsspec[http]<=2025.3.0,>=2023.1.0->datasets) (2025.3.0)\n",
      "Requirement already satisfied: huggingface-hub>=0.24.0 in c:\\program files\\python313\\lib\\site-packages (from datasets) (0.32.3)\n",
      "Requirement already satisfied: packaging in c:\\users\\e_nkanungo\\appdata\\roaming\\python\\python313\\site-packages (from datasets) (25.0)\n",
      "Requirement already satisfied: pyyaml>=5.1 in c:\\program files\\python313\\lib\\site-packages (from datasets) (6.0.2)\n",
      "Requirement already satisfied: loguru<0.8.0,>=0.7.2 in c:\\program files\\python313\\lib\\site-packages (from fastembed) (0.7.3)\n",
      "Requirement already satisfied: mmh3<6.0.0,>=4.1.0 in c:\\program files\\python313\\lib\\site-packages (from fastembed) (5.1.0)\n",
      "Requirement already satisfied: onnxruntime>1.20.0 in c:\\program files\\python313\\lib\\site-packages (from fastembed) (1.22.0)\n",
      "Requirement already satisfied: pillow<12.0.0,>=10.3.0 in c:\\program files\\python313\\lib\\site-packages (from fastembed) (11.2.1)\n",
      "Requirement already satisfied: py-rust-stemmers<0.2.0,>=0.1.0 in c:\\program files\\python313\\lib\\site-packages (from fastembed) (0.1.5)\n",
      "Requirement already satisfied: tokenizers<1.0,>=0.15 in c:\\program files\\python313\\lib\\site-packages (from fastembed) (0.21.1)\n",
      "Requirement already satisfied: colorama in c:\\users\\e_nkanungo\\appdata\\roaming\\python\\python313\\site-packages (from tqdm) (0.4.6)\n",
      "Requirement already satisfied: aiohttp!=4.0.0a0,!=4.0.0a1 in c:\\program files\\python313\\lib\\site-packages (from fsspec[http]<=2025.3.0,>=2023.1.0->datasets) (3.12.4)\n",
      "Requirement already satisfied: anyio in c:\\program files\\python313\\lib\\site-packages (from httpx>=0.20.0->httpx[http2]>=0.20.0->qdrant-client) (4.9.0)\n",
      "Requirement already satisfied: certifi in c:\\program files\\python313\\lib\\site-packages (from httpx>=0.20.0->httpx[http2]>=0.20.0->qdrant-client) (2025.4.26)\n",
      "Requirement already satisfied: httpcore==1.* in c:\\program files\\python313\\lib\\site-packages (from httpx>=0.20.0->httpx[http2]>=0.20.0->qdrant-client) (1.0.9)\n",
      "Requirement already satisfied: idna in c:\\program files\\python313\\lib\\site-packages (from httpx>=0.20.0->httpx[http2]>=0.20.0->qdrant-client) (3.10)\n",
      "Requirement already satisfied: h11>=0.16 in c:\\program files\\python313\\lib\\site-packages (from httpcore==1.*->httpx>=0.20.0->httpx[http2]>=0.20.0->qdrant-client) (0.16.0)\n",
      "Requirement already satisfied: h2<5,>=3 in c:\\program files\\python313\\lib\\site-packages (from httpx[http2]>=0.20.0->qdrant-client) (4.2.0)\n",
      "Requirement already satisfied: typing-extensions>=3.7.4.3 in c:\\program files\\python313\\lib\\site-packages (from huggingface-hub>=0.24.0->datasets) (4.13.2)\n",
      "Requirement already satisfied: win32-setctime>=1.0.0 in c:\\program files\\python313\\lib\\site-packages (from loguru<0.8.0,>=0.7.2->fastembed) (1.2.0)\n",
      "Requirement already satisfied: coloredlogs in c:\\program files\\python313\\lib\\site-packages (from onnxruntime>1.20.0->fastembed) (15.0.1)\n",
      "Requirement already satisfied: flatbuffers in c:\\program files\\python313\\lib\\site-packages (from onnxruntime>1.20.0->fastembed) (25.2.10)\n",
      "Requirement already satisfied: sympy in c:\\program files\\python313\\lib\\site-packages (from onnxruntime>1.20.0->fastembed) (1.14.0)\n",
      "Requirement already satisfied: pywin32>=226 in c:\\users\\e_nkanungo\\appdata\\roaming\\python\\python313\\site-packages (from portalocker<3.0.0,>=2.7.0->qdrant-client) (310)\n",
      "Requirement already satisfied: annotated-types>=0.6.0 in c:\\program files\\python313\\lib\\site-packages (from pydantic!=2.0.*,!=2.1.*,!=2.2.0,>=1.10.8->qdrant-client) (0.7.0)\n",
      "Requirement already satisfied: pydantic-core==2.33.2 in c:\\program files\\python313\\lib\\site-packages (from pydantic!=2.0.*,!=2.1.*,!=2.2.0,>=1.10.8->qdrant-client) (2.33.2)\n",
      "Requirement already satisfied: typing-inspection>=0.4.0 in c:\\program files\\python313\\lib\\site-packages (from pydantic!=2.0.*,!=2.1.*,!=2.2.0,>=1.10.8->qdrant-client) (0.4.1)\n",
      "Requirement already satisfied: charset-normalizer<4,>=2 in c:\\program files\\python313\\lib\\site-packages (from requests>=2.32.2->datasets) (3.4.2)\n",
      "Requirement already satisfied: python-dateutil>=2.8.2 in c:\\users\\e_nkanungo\\appdata\\roaming\\python\\python313\\site-packages (from pandas->datasets) (2.9.0.post0)\n",
      "Requirement already satisfied: pytz>=2020.1 in c:\\program files\\python313\\lib\\site-packages (from pandas->datasets) (2025.2)\n",
      "Requirement already satisfied: tzdata>=2022.7 in c:\\program files\\python313\\lib\\site-packages (from pandas->datasets) (2025.2)\n",
      "Requirement already satisfied: aiohappyeyeballs>=2.5.0 in c:\\program files\\python313\\lib\\site-packages (from aiohttp!=4.0.0a0,!=4.0.0a1->fsspec[http]<=2025.3.0,>=2023.1.0->datasets) (2.6.1)\n",
      "Requirement already satisfied: aiosignal>=1.1.2 in c:\\program files\\python313\\lib\\site-packages (from aiohttp!=4.0.0a0,!=4.0.0a1->fsspec[http]<=2025.3.0,>=2023.1.0->datasets) (1.3.2)\n",
      "Requirement already satisfied: attrs>=17.3.0 in c:\\program files\\python313\\lib\\site-packages (from aiohttp!=4.0.0a0,!=4.0.0a1->fsspec[http]<=2025.3.0,>=2023.1.0->datasets) (25.3.0)\n",
      "Requirement already satisfied: frozenlist>=1.1.1 in c:\\program files\\python313\\lib\\site-packages (from aiohttp!=4.0.0a0,!=4.0.0a1->fsspec[http]<=2025.3.0,>=2023.1.0->datasets) (1.6.0)\n",
      "Requirement already satisfied: multidict<7.0,>=4.5 in c:\\program files\\python313\\lib\\site-packages (from aiohttp!=4.0.0a0,!=4.0.0a1->fsspec[http]<=2025.3.0,>=2023.1.0->datasets) (6.4.4)\n",
      "Requirement already satisfied: propcache>=0.2.0 in c:\\program files\\python313\\lib\\site-packages (from aiohttp!=4.0.0a0,!=4.0.0a1->fsspec[http]<=2025.3.0,>=2023.1.0->datasets) (0.3.1)\n",
      "Requirement already satisfied: yarl<2.0,>=1.17.0 in c:\\program files\\python313\\lib\\site-packages (from aiohttp!=4.0.0a0,!=4.0.0a1->fsspec[http]<=2025.3.0,>=2023.1.0->datasets) (1.20.0)\n",
      "Requirement already satisfied: hyperframe<7,>=6.1 in c:\\program files\\python313\\lib\\site-packages (from h2<5,>=3->httpx[http2]>=0.20.0->qdrant-client) (6.1.0)\n",
      "Requirement already satisfied: hpack<5,>=4.1 in c:\\program files\\python313\\lib\\site-packages (from h2<5,>=3->httpx[http2]>=0.20.0->qdrant-client) (4.1.0)\n",
      "Requirement already satisfied: six>=1.5 in c:\\users\\e_nkanungo\\appdata\\roaming\\python\\python313\\site-packages (from python-dateutil>=2.8.2->pandas->datasets) (1.17.0)\n",
      "Requirement already satisfied: sniffio>=1.1 in c:\\program files\\python313\\lib\\site-packages (from anyio->httpx>=0.20.0->httpx[http2]>=0.20.0->qdrant-client) (1.3.1)\n",
      "Requirement already satisfied: humanfriendly>=9.1 in c:\\program files\\python313\\lib\\site-packages (from coloredlogs->onnxruntime>1.20.0->fastembed) (10.0)\n",
      "Requirement already satisfied: mpmath<1.4,>=1.1.0 in c:\\program files\\python313\\lib\\site-packages (from sympy->onnxruntime>1.20.0->fastembed) (1.3.0)\n",
      "Requirement already satisfied: pyreadline3 in c:\\program files\\python313\\lib\\site-packages (from humanfriendly>=9.1->coloredlogs->onnxruntime>1.20.0->fastembed) (3.5.4)\n",
      "Note: you may need to restart the kernel to use updated packages.\n"
     ]
    },
    {
     "name": "stderr",
     "output_type": "stream",
     "text": [
      "\n",
      "[notice] A new release of pip is available: 25.0.1 -> 25.1.1\n",
      "[notice] To update, run: python.exe -m pip install --upgrade pip\n"
     ]
    }
   ],
   "source": [
    "# Install necessary libraries\n",
    "%pip install qdrant-client datasets fastembed tqdm hf_xet polars"
   ]
  },
  {
   "cell_type": "code",
   "execution_count": 2,
   "id": "49c2cd1a",
   "metadata": {},
   "outputs": [
    {
     "name": "stderr",
     "output_type": "stream",
     "text": [
      "c:\\Program Files\\Python313\\Lib\\site-packages\\tqdm\\auto.py:21: TqdmWarning: IProgress not found. Please update jupyter and ipywidgets. See https://ipywidgets.readthedocs.io/en/stable/user_install.html\n",
      "  from .autonotebook import tqdm as notebook_tqdm\n"
     ]
    }
   ],
   "source": [
    "# Import dependencies\n",
    "from qdrant_client import QdrantClient, models\n",
    "from datasets import load_dataset\n",
    "from fastembed import TextEmbedding, LateInteractionTextEmbedding, SparseTextEmbedding \n",
    "import polars as pl\n",
    "import pandas as pd\n",
    "from IPython.display import display\n",
    "from tqdm import tqdm\n",
    "from getpass import getpass\n",
    "import random, os"
   ]
  },
  {
   "cell_type": "markdown",
   "id": "b7a3e6f4",
   "metadata": {},
   "source": [
    "## Create Embeddings"
   ]
  },
  {
   "cell_type": "markdown",
   "id": "86f9ef5e",
   "metadata": {},
   "source": [
    "### Embedding Setup"
   ]
  },
  {
   "cell_type": "code",
   "execution_count": 3,
   "id": "e937f1e4",
   "metadata": {},
   "outputs": [],
   "source": [
    "\n",
    "dense_embedding_model = TextEmbedding(\"sentence-transformers/all-MiniLM-L6-v2\")\n",
    "bm25_embedding_model = SparseTextEmbedding(\"Qdrant/bm25\")\n",
    "late_interaction_embedding_model = LateInteractionTextEmbedding(\"colbert-ir/colbertv2.0\")"
   ]
  },
  {
   "cell_type": "code",
   "execution_count": 4,
   "id": "5eb3d6a2",
   "metadata": {},
   "outputs": [
    {
     "name": "stdout",
     "output_type": "stream",
     "text": [
      "shape: (1_000,)\n",
      "Series: 'abstract' [str]\n",
      "[\n",
      "\t\"  A Differentiable Neural Comp…\n",
      "\t\"  We develop a deep reinforcem…\n",
      "\t\"  Multi-modal sensor data fusi…\n",
      "\t\"  As large language models con…\n",
      "\t\"  In currently popular cosmolo…\n",
      "\t…\n",
      "\t\"  Multitime system correlation…\n",
      "\t\"  We reply to the comment arXi…\n",
      "\t\"  In recent times, there has b…\n",
      "\t\"  It is shown that in curved s…\n",
      "\t\"  The ubiquity of oscillations…\n",
      "]\n"
     ]
    }
   ],
   "source": [
    "documents = pl.read_parquet('hf://datasets/bluuebunny/arxiv_abstract_embedding_mxbai_large_v1_milvus_binary/**/*.parquet')\n",
    "documents = documents['abstract'].sample(1000)\n",
    "print(documents)"
   ]
  },
  {
   "cell_type": "markdown",
   "id": "ef4b50b2",
   "metadata": {},
   "source": [
    "### Generate Actual Embeddings"
   ]
  },
  {
   "cell_type": "code",
   "execution_count": 5,
   "id": "b527d84a",
   "metadata": {},
   "outputs": [
    {
     "name": "stdout",
     "output_type": "stream",
     "text": [
      "Generating embeddings...\n"
     ]
    },
    {
     "name": "stderr",
     "output_type": "stream",
     "text": [
      "Dense Embeddings: 100%|██████████| 1000/1000 [00:19<00:00, 50.16it/s]\n",
      "BM25 Embeddings: 100%|██████████| 1000/1000 [00:00<00:00, 2894.32it/s]\n",
      "Late Interaction Embeddings: 100%|██████████| 1000/1000 [03:33<00:00,  4.68it/s]\n"
     ]
    }
   ],
   "source": [
    "# Generate embeddings\n",
    "print(\"Generating embeddings...\")\n",
    "\n",
    "dense_embeddings = []\n",
    "for doc in tqdm(documents, desc=\"Dense Embeddings\"):\n",
    "    embedding = next(dense_embedding_model.embed(doc))\n",
    "    dense_embeddings.append(embedding)\n",
    "\n",
    "bm25_embeddings = []\n",
    "for doc in tqdm(documents, desc=\"BM25 Embeddings\"):\n",
    "    embedding = next(bm25_embedding_model.embed(doc))\n",
    "    bm25_embeddings.append(embedding)\n",
    "\n",
    "late_interaction_embeddings = []\n",
    "for doc in tqdm(documents, desc=\"Late Interaction Embeddings\"):\n",
    "    embedding = next(late_interaction_embedding_model.embed(doc))\n",
    "    late_interaction_embeddings.append(embedding)"
   ]
  },
  {
   "cell_type": "code",
   "execution_count": 6,
   "id": "643473ed",
   "metadata": {},
   "outputs": [
    {
     "name": "stdout",
     "output_type": "stream",
     "text": [
      "Dense embedding shape: (384,)\n",
      "BM25 embedding type: <class 'fastembed.sparse.sparse_embedding_base.SparseEmbedding'>\n",
      "Late interaction embedding shape: (108, 128)\n"
     ]
    }
   ],
   "source": [
    "# Check shapes and types\n",
    "print(f\"Dense embedding shape: {dense_embeddings[0].shape}\")\n",
    "print(f\"BM25 embedding type: {type(bm25_embeddings[0])}\")\n",
    "print(f\"Late interaction embedding shape: {late_interaction_embeddings[0].shape}\")"
   ]
  },
  {
   "cell_type": "markdown",
   "id": "8960dd57",
   "metadata": {},
   "source": [
    "## Using Qdrant Cloud Vector Database"
   ]
  },
  {
   "cell_type": "markdown",
   "id": "61eae127",
   "metadata": {},
   "source": [
    "### Setting up Qdrant"
   ]
  },
  {
   "cell_type": "code",
   "execution_count": 7,
   "id": "a376d412",
   "metadata": {},
   "outputs": [],
   "source": [
    "# Set up Qdrant endpoint and API key\n",
    "QDRANT_ENDPOINT = (\n",
    "    os.environ[\"QDRANT_ENDPOINT\"]\n",
    "    if \"QDRANT_ENDPOINT\" in os.environ\n",
    "    else input(\"Qdrant endpoint: \")\n",
    ")\n",
    "QDRANT_API_KEY = (\n",
    "    os.environ[\"QDRANT_API_KEY\"]\n",
    "    if \"QDRANT_API_KEY\" in os.environ\n",
    "    else getpass(\"Qdrant API key: \")\n",
    ")\n",
    "\n",
    "COLLECTION_NAME = \"hybrid-search\"\n",
    "\n",
    "client = QdrantClient(\n",
    "    url=QDRANT_ENDPOINT,\n",
    "    api_key=QDRANT_API_KEY\n",
    ")"
   ]
  },
  {
   "cell_type": "code",
   "execution_count": 8,
   "id": "fffde00a",
   "metadata": {},
   "outputs": [
    {
     "name": "stdout",
     "output_type": "stream",
     "text": [
      "Deleting collection: hybrid-search\n"
     ]
    },
    {
     "data": {
      "text/plain": [
       "True"
      ]
     },
     "execution_count": 8,
     "metadata": {},
     "output_type": "execute_result"
    }
   ],
   "source": [
    "collections = client.get_collections().collections\n",
    "\n",
    "for col in collections:\n",
    "    print(f\"Deleting collection: {col.name}\")\n",
    "    client.delete_collection(col.name)\n",
    "\n",
    "client.create_collection(\n",
    "    \"hybrid-search\",\n",
    "    vectors_config={\n",
    "        \"all-MiniLM-L6-v2\": models.VectorParams(\n",
    "            size=dense_embeddings[0].shape[0],\n",
    "            distance=models.Distance.COSINE,\n",
    "        ),\n",
    "        \"colbertv2.0\": models.VectorParams(\n",
    "            size=late_interaction_embeddings[0].shape[-1],\n",
    "            distance=models.Distance.COSINE,\n",
    "            multivector_config=models.MultiVectorConfig(\n",
    "                comparator=models.MultiVectorComparator.MAX_SIM,\n",
    "            )\n",
    "        ),\n",
    "    },\n",
    "    sparse_vectors_config={\n",
    "        \"bm25\": models.SparseVectorParams(modifier=models.Modifier.IDF)\n",
    "    }\n",
    ")"
   ]
  },
  {
   "cell_type": "code",
   "execution_count": null,
   "id": "1f8200d3",
   "metadata": {},
   "outputs": [],
   "source": [
    "from qdrant_client.models import PointStruct\n",
    "\n",
    "# Point creation\n",
    "\n",
    "points = []\n",
    "for idx, (dense_embedding, bm25_embedding, late_interaction_embedding, doc) in enumerate(\n",
    "    zip(dense_embeddings, bm25_embeddings, late_interaction_embeddings, documents)\n",
    "):\n",
    "    # Generate a random user_id for demo\n",
    "    user_id = f\"user_{random.randint(1, 10)}\"\n",
    "    \n",
    "    point = PointStruct(\n",
    "        id=idx,\n",
    "        vector={\n",
    "            \"all-MiniLM-L6-v2\": dense_embedding.tolist(),\n",
    "            \"bm25\": bm25_embedding.as_object(),\n",
    "            \"colbertv2.0\": late_interaction_embedding.tolist(),\n",
    "        },\n",
    "        payload={\n",
    "            \"document\": doc,\n",
    "            \"user_id\": user_id\n",
    "        }\n",
    "    )\n",
    "    points.append(point)"
   ]
  },
  {
   "cell_type": "markdown",
   "id": "638f3b7e",
   "metadata": {},
   "source": [
    "### Ingesting Data with Qdrant"
   ]
  },
  {
   "cell_type": "code",
   "execution_count": 12,
   "id": "48b9efbc",
   "metadata": {},
   "outputs": [
    {
     "name": "stderr",
     "output_type": "stream",
     "text": [
      "Uploading to Qdrant: 100%|██████████| 32/32 [02:03<00:00,  3.87s/it]\n"
     ]
    }
   ],
   "source": [
    "# Batch upsert for better performance\n",
    "batch_size = 32\n",
    "for i in tqdm(range(0, len(points), batch_size), desc=\"Uploading to Qdrant\"):\n",
    "    batch = points[i:i + batch_size]\n",
    "    client.upsert(collection_name=\"hybrid-search\", points=batch)"
   ]
  },
  {
   "cell_type": "markdown",
   "id": "c275e64f",
   "metadata": {},
   "source": [
    "### Retrieve Vectors from Qdrant"
   ]
  },
  {
   "cell_type": "code",
   "execution_count": 13,
   "id": "340b4579",
   "metadata": {},
   "outputs": [],
   "source": [
    "# Query with user_id filter\n",
    "query = \"What are the largest galaxies in the universe?\"\n",
    "target_user_id = \"user_3\"\n"
   ]
  },
  {
   "cell_type": "code",
   "execution_count": 14,
   "id": "3ebbd359",
   "metadata": {},
   "outputs": [],
   "source": [
    "dense_vectors = next(dense_embedding_model.query_embed(query))\n",
    "sparse_vectors = next(bm25_embedding_model.query_embed(query))\n",
    "late_vectors = next(late_interaction_embedding_model.query_embed(query))"
   ]
  },
  {
   "cell_type": "code",
   "execution_count": 15,
   "id": "2dc05d1e",
   "metadata": {},
   "outputs": [],
   "source": [
    "prefetch = [\n",
    "        models.Prefetch(\n",
    "            query=dense_vectors,\n",
    "            using=\"all-MiniLM-L6-v2\",\n",
    "            limit=20,\n",
    "        ),\n",
    "        models.Prefetch(\n",
    "            query=models.SparseVector(**sparse_vectors.as_object()),\n",
    "            using=\"bm25\",\n",
    "            limit=20,\n",
    "        ),\n",
    "    ]"
   ]
  },
  {
   "cell_type": "code",
   "execution_count": 16,
   "id": "6cb1252c",
   "metadata": {},
   "outputs": [],
   "source": [
    "# Final query\n",
    "results = client.query_points(\n",
    "    COLLECTION_NAME,\n",
    "    prefetch=prefetch,\n",
    "    query=late_vectors,\n",
    "    using=\"colbertv2.0\",\n",
    "    with_payload=True,\n",
    "    limit=50,\n",
    ")"
   ]
  },
  {
   "cell_type": "markdown",
   "id": "d7e58589",
   "metadata": {},
   "source": [
    "### Filtering by User ID"
   ]
  },
  {
   "cell_type": "code",
   "execution_count": 17,
   "id": "7d59935e",
   "metadata": {},
   "outputs": [],
   "source": [
    "# Filter results by user_id after retrieval\n",
    "filtered_points = []\n",
    "for point in results.points:\n",
    "    if point.payload.get('user_id') == target_user_id:\n",
    "        filtered_points.append(point)\n",
    "        if len(filtered_points) >= 10:\n",
    "            break\n",
    "\n",
    "results.points = filtered_points"
   ]
  },
  {
   "cell_type": "code",
   "execution_count": 18,
   "id": "5545ab8d",
   "metadata": {},
   "outputs": [
    {
     "data": {
      "text/plain": [
       "QueryResponse(points=[ScoredPoint(id=578, version=20, score=16.907976, payload={'document': '  We present preliminary results of a search for galaxies at z>4 through Lyman-limit imaging of the fields of known high-redshift radio-galaxies. Objects were selected by means of their broad-band colours, and spectroscopy of candidate objects in one of the fields has been performed through multi-slit spectroscopy at the 4.2m William Herschel Telescope. These spectra show some of the first z>4 galaxies to be identified using the Lyman break technique. ', 'user_id': 'user_3'}, vector=None, shard_key=None, order_value=None), ScoredPoint(id=378, version=13, score=12.813603, payload={'document': \"  When measuring the Baryon Acoustic Oscillations (BAO) scale from galaxy surveys, one typically assumes a fiducial cosmology when converting redshift measurements into comoving distances and also when defining input parameters for the reconstruction algorithm. A parameterised template for the model to be fitted is also created based on a (possibly different) fiducial cosmology. This model reliance can be considered a form of data compression, and the data is then analysed allowing that the true answer is different from the fiducial cosmology assumed. In this study, we evaluate the impact of the fiducial cosmology assumed in the BAO analysis of the Dark Energy Spectroscopic Instrument (DESI) survey Data Release 1 (DR1) on the final measurements in DESI 2024 III. We utilise a suite of mock galaxy catalogues with survey realism that mirrors the DESI DR1 tracers: the bright galaxy sample (BGS), the luminous red galaxies (LRG), the emission line galaxies (ELG) and the quasars (QSO), spanning a redshift range from 0.1 to 2.1. We compare the four secondary AbacusSummit cosmologies against DESI's fiducial cosmology (Planck 2018). The secondary cosmologies explored include a lower cold dark matter density, a thawing dark energy universe, a higher number of effective species, and a lower amplitude of matter clustering. The mocks are processed through the BAO pipeline by consistently iterating the grid, template, and reconstruction reference cosmologies. We determine a conservative systematic contribution to the error of $0.1\\\\%$ for both the isotropic and anisotropic dilation parameters $\\\\alpha_{\\\\rm iso}$ and $\\\\alpha_{\\\\rm AP}$. We then directly test the impact of the fiducial cosmology on DESI DR1 data. \", 'user_id': 'user_3'}, vector=None, shard_key=None, order_value=None), ScoredPoint(id=540, version=18, score=12.7242565, payload={'document': '  The [O III] 5007 line is commonly used as an indicator of the systemic redshift of AGNs. Also, recent studies have used the width of this emission line as a proxy for the stellar velocity dispersion in the host galaxy. This paper calls both of these assumptions into question by analyzing a sample of approximately 400 AGN spectra from the first data release of the Sloan Digital Sky Survey. These spectra show that the low-ionization forbidden lines ([O II], [N II], [S II]) define a consistent redshift, but that the peak of the [O III] line is blueshifted in approximately half of the AGNs with respect to that redshift. For the sample studied here, the average shift is 40 km/s, with the largest shift being over 400 km/s. The magnitude of this shift is found to be correlated with a number of properties, including the width of the [O III] line and the Eddington ratio (L/L$_{Edd}$), derived from the luminosity and width of H-beta. ', 'user_id': 'user_3'}, vector=None, shard_key=None, order_value=None), ScoredPoint(id=881, version=29, score=11.188304, payload={'document': '  Despite consistent progress in numerical simulations, the observable properties of galaxy clusters are difficult to predict ab initio. It is therefore important to compare both theoretical and observational results to a direct measure of the cluster mass. This can be done by measuring the gravitational lensing effects caused by the bending of light by the cluster mass distribution. In this review we discuss how this phenomenon can be used to determine cluster masses and study the mass distribution itself. As sample sizes increase, the accuracy of the weak lensing mass estimates needs to improve accordingly. We discuss the main practical aspects of these measurements. We review a number of applications and highlight some recent results. ', 'user_id': 'user_3'}, vector=None, shard_key=None, order_value=None), ScoredPoint(id=710, version=24, score=10.517724, payload={'document': '  We propose a cosmological lingering phase for the initial state prior to inflation which would help address the singularity problem of inflation. The universe begins with a constant (Hagedorn) temperature and then transitions into an inflationary universe while preserving the Null Energy Condition (NEC). In such a universe time is presumably emergent, calling the age of the universe into question. We first consider the phase space of positive spatial curvature models within General Relativity and with matter sources that respect the NEC. Depending on the duration of the post-lingering inflation these models can produce a small amount of observable spatial curvature in the Cosmic Microwave Background. We also discuss how lingering can arise with or without spatial curvature in theories of quantum gravity when considering the thermodynamic scaling of particles and its impact on the early universe. The string theory dilaton is essential to the dynamics. There are many open questions that remain. ', 'user_id': 'user_3'}, vector=None, shard_key=None, order_value=None)])"
      ]
     },
     "execution_count": 18,
     "metadata": {},
     "output_type": "execute_result"
    }
   ],
   "source": [
    "results"
   ]
  },
  {
   "cell_type": "code",
   "execution_count": 19,
   "id": "41edf645",
   "metadata": {},
   "outputs": [],
   "source": [
    "output = []\n",
    "for point in results.points:\n",
    "    output.append({\n",
    "        'id': point.id,\n",
    "        'score': point.score,\n",
    "        'user_id': point.payload.get('user_id', ''),\n",
    "        'payload': point.payload.get('document', '')\n",
    "    })\n"
   ]
  },
  {
   "cell_type": "code",
   "execution_count": 23,
   "id": "a806fce2",
   "metadata": {},
   "outputs": [
    {
     "name": "stdout",
     "output_type": "stream",
     "text": [
      "shape: (5, 4)\n",
      "┌─────┬───────────┬─────────┬──────────────────────────────────────────────────────────────────────┐\n",
      "│ id  ┆ score     ┆ user_id ┆ payload                                                              │\n",
      "│ --- ┆ ---       ┆ ---     ┆ ---                                                                  │\n",
      "│ i64 ┆ f64       ┆ str     ┆ str                                                                  │\n",
      "╞═════╪═══════════╪═════════╪══════════════════════════════════════════════════════════════════════╡\n",
      "│ 578 ┆ 16.907976 ┆ user_3  ┆ We present preliminary results of a search for galaxies at z>4       │\n",
      "│     ┆           ┆         ┆ through Lyman-limit imaging of the fields of known high-redshift     │\n",
      "│     ┆           ┆         ┆ radio-galaxies. Objects were selected by means of their broad-band   │\n",
      "│     ┆           ┆         ┆ col…                                                                 │\n",
      "│ 378 ┆ 12.813603 ┆ user_3  ┆ When measuring the Baryon Acoustic Oscillations (BAO) scale from     │\n",
      "│     ┆           ┆         ┆ galaxy surveys, one typically assumes a fiducial cosmology when      │\n",
      "│     ┆           ┆         ┆ converting redshift measurements into comoving distances and also    │\n",
      "│     ┆           ┆         ┆ whe…                                                                 │\n",
      "│ 540 ┆ 12.724256 ┆ user_3  ┆ The [O III] 5007 line is commonly used as an indicator of the        │\n",
      "│     ┆           ┆         ┆ systemic redshift of AGNs. Also, recent studies have used the width  │\n",
      "│     ┆           ┆         ┆ of this emission line as a proxy for the stellar velocity            │\n",
      "│     ┆           ┆         ┆ dispersion…                                                          │\n",
      "│ 881 ┆ 11.188304 ┆ user_3  ┆ Despite consistent progress in numerical simulations, the observable │\n",
      "│     ┆           ┆         ┆ properties of galaxy clusters are difficult to predict ab initio. It │\n",
      "│     ┆           ┆         ┆ is therefore important to compare both theoretical and obser…        │\n",
      "│ 710 ┆ 10.517724 ┆ user_3  ┆ We propose a cosmological lingering phase for the initial state      │\n",
      "│     ┆           ┆         ┆ prior to inflation which would help address the singularity problem  │\n",
      "│     ┆           ┆         ┆ of inflation. The universe begins with a constant (Hagedorn) tempe…  │\n",
      "└─────┴───────────┴─────────┴──────────────────────────────────────────────────────────────────────┘\n"
     ]
    }
   ],
   "source": [
    "df = pl.DataFrame(output)\n",
    "pl.Config.set_fmt_str_lengths(200)\n",
    "print(df)"
   ]
  }
 ],
 "metadata": {
  "kernelspec": {
   "display_name": "Python 3",
   "language": "python",
   "name": "python3"
  },
  "language_info": {
   "codemirror_mode": {
    "name": "ipython",
    "version": 3
   },
   "file_extension": ".py",
   "mimetype": "text/x-python",
   "name": "python",
   "nbconvert_exporter": "python",
   "pygments_lexer": "ipython3",
   "version": "3.13.3"
  }
 },
 "nbformat": 4,
 "nbformat_minor": 5
}
